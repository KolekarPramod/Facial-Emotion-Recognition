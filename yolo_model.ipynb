{
 "cells": [
  {
   "cell_type": "code",
   "execution_count": 11,
   "metadata": {},
   "outputs": [],
   "source": [
    "import os\n",
    "import random\n",
    "import shutil\n",
    "from PIL import Image\n",
    "import torchvision.transforms as transforms"
   ]
  },
  {
   "cell_type": "markdown",
   "metadata": {},
   "source": []
  },
  {
   "cell_type": "code",
   "execution_count": 21,
   "metadata": {},
   "outputs": [],
   "source": [
    "import os\n",
    "import random\n",
    "import shutil\n",
    "from PIL import Image\n",
    "from torchvision import transforms"
   ]
  },
  {
   "cell_type": "code",
   "execution_count": 23,
   "metadata": {},
   "outputs": [
    {
     "name": "stdout",
     "output_type": "stream",
     "text": [
      "Initial Image Counts:\n",
      "angry: 3993 images\n",
      "disgust: 436 images\n",
      "fear: 4103 images\n",
      "happy: 7164 images\n",
      "neutral: 4982 images\n",
      "sad: 4938 images\n",
      "surprise: 3205 images\n",
      "Augmented 7 images for angry\n",
      "Augmented 3564 images for disgust\n",
      "Removed 103 images from fear\n",
      "Removed 3164 images from happy\n",
      "Removed 982 images from neutral\n",
      "Removed 938 images from sad\n",
      "Augmented 795 images for surprise\n",
      "\n",
      "Final Image Counts:\n",
      "angry: 4000 images\n",
      "disgust: 4000 images\n",
      "fear: 4000 images\n",
      "happy: 4000 images\n",
      "neutral: 4000 images\n",
      "sad: 4000 images\n",
      "surprise: 4000 images\n"
     ]
    }
   ],
   "source": [
    "\n",
    "\n",
    "def balance_dataset(train_dir, target_size=4000):\n",
    "    \"\"\"\n",
    "    Balance the dataset by:\n",
    "    1. Randomly removing excess images from overrepresented classes\n",
    "    2. Augmenting underrepresented classes\n",
    "    \"\"\"\n",
    "    # Get list of subdirectories (emotion categories)\n",
    "    categories = [category for category in os.listdir(train_dir)\n",
    "                  if os.path.isdir(os.path.join(train_dir, category))]\n",
    "    \n",
    "    # Count images in each category\n",
    "    image_counts = {category: len(os.listdir(os.path.join(train_dir, category))) for category in categories}\n",
    "    \n",
    "    # Print initial image counts\n",
    "    print(\"Initial Image Counts:\")\n",
    "    for category, count in image_counts.items():\n",
    "        print(f\"{category}: {count} images\")\n",
    "    \n",
    "    # Define augmentation transformations\n",
    "    transform = transforms.Compose([\n",
    "        transforms.RandomRotation(10),           # Random rotation\n",
    "        transforms.RandomHorizontalFlip(),       # Random horizontal flip\n",
    "        transforms.RandomVerticalFlip(),         # Random vertical flip\n",
    "        transforms.ColorJitter(brightness=0.2, contrast=0.2, saturation=0.2, hue=0.2),  # Random color jitter\n",
    "        transforms.RandomAffine(degrees=5, translate=(0.1, 0.1))  # Random affine transform\n",
    "    ])\n",
    "    \n",
    "    # Create a backup of the original dataset\n",
    "    backup_dir = train_dir + \"_backup\"\n",
    "    shutil.copytree(train_dir, backup_dir, dirs_exist_ok=True)\n",
    "    \n",
    "    # Process each category\n",
    "    for category in categories:\n",
    "        category_path = os.path.join(train_dir, category)\n",
    "        images = os.listdir(category_path)\n",
    "        \n",
    "        if len(images) > target_size:\n",
    "            # If category has more than target size, randomly remove excess images\n",
    "            excess_images = random.sample(images, len(images) - target_size)\n",
    "            for img in excess_images:\n",
    "                os.remove(os.path.join(category_path, img))\n",
    "            print(f\"Removed {len(excess_images)} images from {category}\")\n",
    "        \n",
    "        elif len(images) < target_size:\n",
    "            # If category has fewer than target size, augment images\n",
    "            augmented_images_needed = target_size - len(images)\n",
    "            augmented_count = 0\n",
    "            \n",
    "            while augmented_count < augmented_images_needed:\n",
    "                # Randomly select an image to augment\n",
    "                source_image = random.choice(images)\n",
    "                source_path = os.path.join(category_path, source_image)\n",
    "                \n",
    "                # Open the image\n",
    "                img = Image.open(source_path)\n",
    "                \n",
    "                # Apply transformations\n",
    "                augmented_img = transform(img)\n",
    "                \n",
    "                # Generate a unique filename\n",
    "                base_name = os.path.splitext(source_image)[0]\n",
    "                augmented_img_name = f\"{base_name}_aug_{augmented_count}.jpg\"\n",
    "                augmented_img_path = os.path.join(category_path, augmented_img_name)\n",
    "                \n",
    "                # Save the augmented image\n",
    "                augmented_img.save(augmented_img_path)\n",
    "                augmented_count += 1\n",
    "            \n",
    "            print(f\"Augmented {augmented_count} images for {category}\")\n",
    "    \n",
    "    # Verify final counts\n",
    "    final_counts = {category: len(os.listdir(os.path.join(train_dir, category))) for category in categories}\n",
    "    print(\"\\nFinal Image Counts:\")\n",
    "    for category, count in final_counts.items():\n",
    "        print(f\"{category}: {count} images\")\n",
    "\n",
    "\n",
    "# Set the path to your image dataset\n",
    "train_dir = r\"dataset\\images\\train\"  # Use a raw string to avoid escape sequence errors\n",
    "\n",
    "# Balance the dataset\n",
    "balance_dataset(train_dir)\n"
   ]
  },
  {
   "cell_type": "code",
   "execution_count": 25,
   "metadata": {},
   "outputs": [
    {
     "name": "stdout",
     "output_type": "stream",
     "text": [
      "YOLO11s-cls summary: 151 layers, 5,545,488 parameters, 5,545,488 gradients, 12.2 GFLOPs\n",
      "Downloading https://github.com/ultralytics/assets/releases/download/v8.3.0/yolo11s-cls.pt to 'yolo11s-cls.pt'...\n"
     ]
    },
    {
     "name": "stderr",
     "output_type": "stream",
     "text": [
      "100%|██████████| 13.0M/13.0M [00:00<00:00, 82.9MB/s]\n"
     ]
    },
    {
     "name": "stdout",
     "output_type": "stream",
     "text": [
      "YOLO11s-cls summary: 151 layers, 5,545,488 parameters, 5,545,488 gradients, 12.2 GFLOPs\n",
      "Transferred 234/236 items from pretrained weights\n",
      "New https://pypi.org/project/ultralytics/8.3.99 available  Update with 'pip install -U ultralytics'\n",
      "Ultralytics 8.3.56  Python-3.12.9 torch-2.5.1+cpu CPU (AMD Ryzen Threadripper 3960X 24-Core Processor)\n",
      "\u001b[34m\u001b[1mengine\\trainer: \u001b[0mtask=classify, mode=train, model=yolo11s-cls.yaml, data=dataset\\images, epochs=50, time=None, patience=100, batch=16, imgsz=64, save=True, save_period=-1, cache=False, device=None, workers=8, project=None, name=train12, exist_ok=False, pretrained=yolo11s-cls.pt, optimizer=auto, verbose=True, seed=0, deterministic=True, single_cls=False, rect=False, cos_lr=False, close_mosaic=10, resume=False, amp=True, fraction=1.0, profile=False, freeze=None, multi_scale=False, overlap_mask=True, mask_ratio=4, dropout=0.0, val=True, split=val, save_json=False, save_hybrid=False, conf=None, iou=0.7, max_det=300, half=False, dnn=False, plots=True, source=None, vid_stride=1, stream_buffer=False, visualize=False, augment=False, agnostic_nms=False, classes=None, retina_masks=False, embed=None, show=False, save_frames=False, save_txt=False, save_conf=False, save_crop=False, show_labels=True, show_conf=True, show_boxes=True, line_width=None, format=torchscript, keras=False, optimize=False, int8=False, dynamic=False, simplify=True, opset=None, workspace=None, nms=False, lr0=0.01, lrf=0.01, momentum=0.937, weight_decay=0.0005, warmup_epochs=3.0, warmup_momentum=0.8, warmup_bias_lr=0.1, box=7.5, cls=0.5, dfl=1.5, pose=12.0, kobj=1.0, nbs=64, hsv_h=0.015, hsv_s=0.7, hsv_v=0.4, degrees=0.0, translate=0.1, scale=0.5, shear=0.0, perspective=0.0, flipud=0.0, fliplr=0.5, bgr=0.0, mosaic=1.0, mixup=0.0, copy_paste=0.0, copy_paste_mode=flip, auto_augment=randaugment, erasing=0.4, crop_fraction=1.0, cfg=None, tracker=botsort.yaml, save_dir=runs\\classify\\train12\n",
      "\u001b[34m\u001b[1mtrain:\u001b[0m C:\\work\\alma\\Facial-Emotion-Recognition\\dataset\\images\\train... found 28000 images in 7 classes  \n",
      "\u001b[34m\u001b[1mval:\u001b[0m None...\n",
      "\u001b[34m\u001b[1mtest:\u001b[0m C:\\work\\alma\\Facial-Emotion-Recognition\\dataset\\images\\test... found 11930 images in 7 classes  \n",
      "Overriding model.yaml nc=80 with nc=7\n",
      "\n",
      "                   from  n    params  module                                       arguments                     \n",
      "  0                  -1  1       928  ultralytics.nn.modules.conv.Conv             [3, 32, 3, 2]                 \n",
      "  1                  -1  1     18560  ultralytics.nn.modules.conv.Conv             [32, 64, 3, 2]                \n",
      "  2                  -1  1     26080  ultralytics.nn.modules.block.C3k2            [64, 128, 1, False, 0.25]     \n",
      "  3                  -1  1    147712  ultralytics.nn.modules.conv.Conv             [128, 128, 3, 2]              \n",
      "  4                  -1  1    103360  ultralytics.nn.modules.block.C3k2            [128, 256, 1, False, 0.25]    \n",
      "  5                  -1  1    590336  ultralytics.nn.modules.conv.Conv             [256, 256, 3, 2]              \n",
      "  6                  -1  1    346112  ultralytics.nn.modules.block.C3k2            [256, 256, 1, True]           \n",
      "  7                  -1  1   1180672  ultralytics.nn.modules.conv.Conv             [256, 512, 3, 2]              \n",
      "  8                  -1  1   1380352  ultralytics.nn.modules.block.C3k2            [512, 512, 1, True]           \n",
      "  9                  -1  1    990976  ultralytics.nn.modules.block.C2PSA           [512, 512, 1]                 \n",
      " 10                  -1  1    666887  ultralytics.nn.modules.head.Classify         [512, 7]                      \n",
      "YOLO11s-cls summary: 151 layers, 5,451,975 parameters, 5,451,975 gradients, 12.1 GFLOPs\n",
      "Transferred 234/236 items from pretrained weights\n"
     ]
    },
    {
     "name": "stderr",
     "output_type": "stream",
     "text": [
      "\u001b[34m\u001b[1mtrain: \u001b[0mScanning C:\\work\\alma\\Facial-Emotion-Recognition\\dataset\\images\\train... 28000 images, 0 corrupt: 100%|██████████| 28000/28000 [00:00<?, ?it/s]\n",
      "\u001b[34m\u001b[1mval: \u001b[0mScanning C:\\work\\alma\\Facial-Emotion-Recognition\\dataset\\images\\test... 11929 images, 1 corrupt: 100%|██████████| 11929/11929 [00:00<?, ?it/s]"
     ]
    },
    {
     "name": "stdout",
     "output_type": "stream",
     "text": [
      "\u001b[34m\u001b[1mval: \u001b[0mWARNING  C:\\work\\alma\\Facial-Emotion-Recognition\\dataset\\images\\test\\disgust\\21744_aug_1823.jpg: ignoring corrupt image/label: cannot identify image file 'C:\\\\work\\\\alma\\\\Facial-Emotion-Recognition\\\\dataset\\\\images\\\\test\\\\disgust\\\\21744_aug_1823.jpg'\n",
      "\u001b[34m\u001b[1moptimizer:\u001b[0m 'optimizer=auto' found, ignoring 'lr0=0.01' and 'momentum=0.937' and determining best 'optimizer', 'lr0' and 'momentum' automatically... \n",
      "\u001b[34m\u001b[1moptimizer:\u001b[0m SGD(lr=0.01, momentum=0.9) with parameter groups 39 weight(decay=0.0), 40 weight(decay=0.0005), 40 bias(decay=0.0)\n",
      "Image sizes 64 train, 64 val\n",
      "Using 0 dataloader workers\n",
      "Logging results to \u001b[1mruns\\classify\\train12\u001b[0m\n",
      "Starting training for 50 epochs...\n",
      "\n",
      "      Epoch    GPU_mem       loss  Instances       Size\n"
     ]
    },
    {
     "name": "stderr",
     "output_type": "stream",
     "text": [
      "\n",
      "       1/50         0G      1.814         16         64: 100%|██████████| 1750/1750 [03:26<00:00,  8.49it/s]\n",
      "               classes   top1_acc   top5_acc: 100%|██████████| 373/373 [00:17<00:00, 20.96it/s]"
     ]
    },
    {
     "name": "stdout",
     "output_type": "stream",
     "text": [
      "                   all      0.363      0.879\n"
     ]
    },
    {
     "name": "stderr",
     "output_type": "stream",
     "text": [
      "\n"
     ]
    },
    {
     "name": "stdout",
     "output_type": "stream",
     "text": [
      "\n",
      "      Epoch    GPU_mem       loss  Instances       Size\n"
     ]
    },
    {
     "name": "stderr",
     "output_type": "stream",
     "text": [
      "       2/50         0G      1.662         16         64: 100%|██████████| 1750/1750 [03:22<00:00,  8.65it/s]\n",
      "               classes   top1_acc   top5_acc: 100%|██████████| 373/373 [00:17<00:00, 21.40it/s]"
     ]
    },
    {
     "name": "stdout",
     "output_type": "stream",
     "text": [
      "                   all      0.418      0.947\n"
     ]
    },
    {
     "name": "stderr",
     "output_type": "stream",
     "text": [
      "\n"
     ]
    },
    {
     "name": "stdout",
     "output_type": "stream",
     "text": [
      "\n",
      "      Epoch    GPU_mem       loss  Instances       Size\n"
     ]
    },
    {
     "name": "stderr",
     "output_type": "stream",
     "text": [
      "       3/50         0G      1.606         16         64: 100%|██████████| 1750/1750 [03:01<00:00,  9.64it/s]\n",
      "               classes   top1_acc   top5_acc: 100%|██████████| 373/373 [00:17<00:00, 20.78it/s]"
     ]
    },
    {
     "name": "stdout",
     "output_type": "stream",
     "text": [
      "                   all       0.41      0.928\n"
     ]
    },
    {
     "name": "stderr",
     "output_type": "stream",
     "text": [
      "\n"
     ]
    },
    {
     "name": "stdout",
     "output_type": "stream",
     "text": [
      "\n",
      "      Epoch    GPU_mem       loss  Instances       Size\n"
     ]
    },
    {
     "name": "stderr",
     "output_type": "stream",
     "text": [
      "       4/50         0G      1.504         16         64: 100%|██████████| 1750/1750 [02:57<00:00,  9.88it/s]\n",
      "               classes   top1_acc   top5_acc: 100%|██████████| 373/373 [00:17<00:00, 21.08it/s]"
     ]
    },
    {
     "name": "stdout",
     "output_type": "stream",
     "text": [
      "                   all       0.46      0.975\n"
     ]
    },
    {
     "name": "stderr",
     "output_type": "stream",
     "text": [
      "\n"
     ]
    },
    {
     "name": "stdout",
     "output_type": "stream",
     "text": [
      "\n",
      "      Epoch    GPU_mem       loss  Instances       Size\n"
     ]
    },
    {
     "name": "stderr",
     "output_type": "stream",
     "text": [
      "       5/50         0G      1.381         16         64: 100%|██████████| 1750/1750 [02:51<00:00, 10.18it/s]\n",
      "               classes   top1_acc   top5_acc: 100%|██████████| 373/373 [00:14<00:00, 25.86it/s]"
     ]
    },
    {
     "name": "stdout",
     "output_type": "stream",
     "text": [
      "                   all      0.477      0.969\n"
     ]
    },
    {
     "name": "stderr",
     "output_type": "stream",
     "text": [
      "\n"
     ]
    },
    {
     "name": "stdout",
     "output_type": "stream",
     "text": [
      "\n",
      "      Epoch    GPU_mem       loss  Instances       Size\n"
     ]
    },
    {
     "name": "stderr",
     "output_type": "stream",
     "text": [
      "       6/50         0G       1.32         16         64: 100%|██████████| 1750/1750 [02:53<00:00, 10.06it/s]\n",
      "               classes   top1_acc   top5_acc: 100%|██████████| 373/373 [00:16<00:00, 22.84it/s]"
     ]
    },
    {
     "name": "stdout",
     "output_type": "stream",
     "text": [
      "                   all      0.475      0.981\n"
     ]
    },
    {
     "name": "stderr",
     "output_type": "stream",
     "text": [
      "\n"
     ]
    },
    {
     "name": "stdout",
     "output_type": "stream",
     "text": [
      "\n",
      "      Epoch    GPU_mem       loss  Instances       Size\n"
     ]
    },
    {
     "name": "stderr",
     "output_type": "stream",
     "text": [
      "       7/50         0G      1.276         16         64: 100%|██████████| 1750/1750 [03:14<00:00,  8.99it/s]\n",
      "               classes   top1_acc   top5_acc: 100%|██████████| 373/373 [00:17<00:00, 20.88it/s]"
     ]
    },
    {
     "name": "stdout",
     "output_type": "stream",
     "text": [
      "                   all       0.49      0.981\n"
     ]
    },
    {
     "name": "stderr",
     "output_type": "stream",
     "text": [
      "\n"
     ]
    },
    {
     "name": "stdout",
     "output_type": "stream",
     "text": [
      "\n",
      "      Epoch    GPU_mem       loss  Instances       Size\n"
     ]
    },
    {
     "name": "stderr",
     "output_type": "stream",
     "text": [
      "       8/50         0G      1.244         16         64: 100%|██████████| 1750/1750 [03:10<00:00,  9.17it/s]\n",
      "               classes   top1_acc   top5_acc: 100%|██████████| 373/373 [00:17<00:00, 20.96it/s]"
     ]
    },
    {
     "name": "stdout",
     "output_type": "stream",
     "text": [
      "                   all      0.496       0.95\n"
     ]
    },
    {
     "name": "stderr",
     "output_type": "stream",
     "text": [
      "\n"
     ]
    },
    {
     "name": "stdout",
     "output_type": "stream",
     "text": [
      "\n",
      "      Epoch    GPU_mem       loss  Instances       Size\n"
     ]
    },
    {
     "name": "stderr",
     "output_type": "stream",
     "text": [
      "       9/50         0G      1.208         16         64: 100%|██████████| 1750/1750 [03:13<00:00,  9.07it/s]\n",
      "               classes   top1_acc   top5_acc: 100%|██████████| 373/373 [00:14<00:00, 25.03it/s]"
     ]
    },
    {
     "name": "stdout",
     "output_type": "stream",
     "text": [
      "                   all      0.506       0.97\n"
     ]
    },
    {
     "name": "stderr",
     "output_type": "stream",
     "text": [
      "\n"
     ]
    },
    {
     "name": "stdout",
     "output_type": "stream",
     "text": [
      "\n",
      "      Epoch    GPU_mem       loss  Instances       Size\n"
     ]
    },
    {
     "name": "stderr",
     "output_type": "stream",
     "text": [
      "      10/50         0G      1.192         16         64: 100%|██████████| 1750/1750 [03:04<00:00,  9.48it/s]\n",
      "               classes   top1_acc   top5_acc: 100%|██████████| 373/373 [00:17<00:00, 21.06it/s]"
     ]
    },
    {
     "name": "stdout",
     "output_type": "stream",
     "text": [
      "                   all      0.508      0.962\n"
     ]
    },
    {
     "name": "stderr",
     "output_type": "stream",
     "text": [
      "\n"
     ]
    },
    {
     "name": "stdout",
     "output_type": "stream",
     "text": [
      "\n",
      "      Epoch    GPU_mem       loss  Instances       Size\n"
     ]
    },
    {
     "name": "stderr",
     "output_type": "stream",
     "text": [
      "      11/50         0G      1.178         16         64: 100%|██████████| 1750/1750 [03:14<00:00,  8.98it/s]\n",
      "               classes   top1_acc   top5_acc: 100%|██████████| 373/373 [00:17<00:00, 20.73it/s]"
     ]
    },
    {
     "name": "stdout",
     "output_type": "stream",
     "text": [
      "                   all       0.51      0.972\n"
     ]
    },
    {
     "name": "stderr",
     "output_type": "stream",
     "text": [
      "\n"
     ]
    },
    {
     "name": "stdout",
     "output_type": "stream",
     "text": [
      "\n",
      "      Epoch    GPU_mem       loss  Instances       Size\n"
     ]
    },
    {
     "name": "stderr",
     "output_type": "stream",
     "text": [
      "      12/50         0G      1.148         16         64: 100%|██████████| 1750/1750 [03:14<00:00,  9.01it/s]\n",
      "               classes   top1_acc   top5_acc: 100%|██████████| 373/373 [00:17<00:00, 21.00it/s]"
     ]
    },
    {
     "name": "stdout",
     "output_type": "stream",
     "text": [
      "                   all      0.513      0.946\n"
     ]
    },
    {
     "name": "stderr",
     "output_type": "stream",
     "text": [
      "\n"
     ]
    },
    {
     "name": "stdout",
     "output_type": "stream",
     "text": [
      "\n",
      "      Epoch    GPU_mem       loss  Instances       Size\n"
     ]
    },
    {
     "name": "stderr",
     "output_type": "stream",
     "text": [
      "      13/50         0G      1.137         16         64: 100%|██████████| 1750/1750 [03:14<00:00,  8.98it/s]\n",
      "               classes   top1_acc   top5_acc: 100%|██████████| 373/373 [00:17<00:00, 20.79it/s]"
     ]
    },
    {
     "name": "stdout",
     "output_type": "stream",
     "text": [
      "                   all      0.515      0.976\n"
     ]
    },
    {
     "name": "stderr",
     "output_type": "stream",
     "text": [
      "\n"
     ]
    },
    {
     "name": "stdout",
     "output_type": "stream",
     "text": [
      "\n",
      "      Epoch    GPU_mem       loss  Instances       Size\n"
     ]
    },
    {
     "name": "stderr",
     "output_type": "stream",
     "text": [
      "      14/50         0G       1.12         16         64: 100%|██████████| 1750/1750 [03:14<00:00,  9.01it/s]\n",
      "               classes   top1_acc   top5_acc: 100%|██████████| 373/373 [00:17<00:00, 20.87it/s]"
     ]
    },
    {
     "name": "stdout",
     "output_type": "stream",
     "text": [
      "                   all      0.521      0.937\n"
     ]
    },
    {
     "name": "stderr",
     "output_type": "stream",
     "text": [
      "\n"
     ]
    },
    {
     "name": "stdout",
     "output_type": "stream",
     "text": [
      "\n",
      "      Epoch    GPU_mem       loss  Instances       Size\n"
     ]
    },
    {
     "name": "stderr",
     "output_type": "stream",
     "text": [
      "      15/50         0G      1.118         16         64: 100%|██████████| 1750/1750 [03:15<00:00,  8.96it/s]\n",
      "               classes   top1_acc   top5_acc: 100%|██████████| 373/373 [00:17<00:00, 20.96it/s]"
     ]
    },
    {
     "name": "stdout",
     "output_type": "stream",
     "text": [
      "                   all      0.526       0.98\n"
     ]
    },
    {
     "name": "stderr",
     "output_type": "stream",
     "text": [
      "\n"
     ]
    },
    {
     "name": "stdout",
     "output_type": "stream",
     "text": [
      "\n",
      "      Epoch    GPU_mem       loss  Instances       Size\n"
     ]
    },
    {
     "name": "stderr",
     "output_type": "stream",
     "text": [
      "      16/50         0G      1.097         16         64: 100%|██████████| 1750/1750 [03:08<00:00,  9.30it/s]\n",
      "               classes   top1_acc   top5_acc: 100%|██████████| 373/373 [00:17<00:00, 21.11it/s]"
     ]
    },
    {
     "name": "stdout",
     "output_type": "stream",
     "text": [
      "                   all      0.528       0.98\n"
     ]
    },
    {
     "name": "stderr",
     "output_type": "stream",
     "text": [
      "\n"
     ]
    },
    {
     "name": "stdout",
     "output_type": "stream",
     "text": [
      "\n",
      "      Epoch    GPU_mem       loss  Instances       Size\n"
     ]
    },
    {
     "name": "stderr",
     "output_type": "stream",
     "text": [
      "      17/50         0G      1.095         16         64: 100%|██████████| 1750/1750 [03:11<00:00,  9.13it/s]\n",
      "               classes   top1_acc   top5_acc: 100%|██████████| 373/373 [00:17<00:00, 21.12it/s]"
     ]
    },
    {
     "name": "stdout",
     "output_type": "stream",
     "text": [
      "                   all      0.527      0.941\n"
     ]
    },
    {
     "name": "stderr",
     "output_type": "stream",
     "text": [
      "\n"
     ]
    },
    {
     "name": "stdout",
     "output_type": "stream",
     "text": [
      "\n",
      "      Epoch    GPU_mem       loss  Instances       Size\n"
     ]
    },
    {
     "name": "stderr",
     "output_type": "stream",
     "text": [
      "      18/50         0G      1.077         16         64: 100%|██████████| 1750/1750 [03:03<00:00,  9.54it/s]\n",
      "               classes   top1_acc   top5_acc: 100%|██████████| 373/373 [00:17<00:00, 21.28it/s]"
     ]
    },
    {
     "name": "stdout",
     "output_type": "stream",
     "text": [
      "                   all       0.53      0.961\n"
     ]
    },
    {
     "name": "stderr",
     "output_type": "stream",
     "text": [
      "\n"
     ]
    },
    {
     "name": "stdout",
     "output_type": "stream",
     "text": [
      "\n",
      "      Epoch    GPU_mem       loss  Instances       Size\n"
     ]
    },
    {
     "name": "stderr",
     "output_type": "stream",
     "text": [
      "      19/50         0G      1.072         16         64: 100%|██████████| 1750/1750 [03:11<00:00,  9.12it/s]\n",
      "               classes   top1_acc   top5_acc: 100%|██████████| 373/373 [00:17<00:00, 21.02it/s]"
     ]
    },
    {
     "name": "stdout",
     "output_type": "stream",
     "text": [
      "                   all      0.532      0.976\n"
     ]
    },
    {
     "name": "stderr",
     "output_type": "stream",
     "text": [
      "\n"
     ]
    },
    {
     "name": "stdout",
     "output_type": "stream",
     "text": [
      "\n",
      "      Epoch    GPU_mem       loss  Instances       Size\n"
     ]
    },
    {
     "name": "stderr",
     "output_type": "stream",
     "text": [
      "      20/50         0G      1.064         16         64: 100%|██████████| 1750/1750 [03:11<00:00,  9.12it/s]\n",
      "               classes   top1_acc   top5_acc: 100%|██████████| 373/373 [00:17<00:00, 21.48it/s]"
     ]
    },
    {
     "name": "stdout",
     "output_type": "stream",
     "text": [
      "                   all      0.535      0.979\n"
     ]
    },
    {
     "name": "stderr",
     "output_type": "stream",
     "text": [
      "\n"
     ]
    },
    {
     "name": "stdout",
     "output_type": "stream",
     "text": [
      "\n",
      "      Epoch    GPU_mem       loss  Instances       Size\n"
     ]
    },
    {
     "name": "stderr",
     "output_type": "stream",
     "text": [
      "      21/50         0G      1.047         16         64: 100%|██████████| 1750/1750 [03:13<00:00,  9.03it/s]\n",
      "               classes   top1_acc   top5_acc: 100%|██████████| 373/373 [00:17<00:00, 21.19it/s]"
     ]
    },
    {
     "name": "stdout",
     "output_type": "stream",
     "text": [
      "                   all      0.537      0.974\n"
     ]
    },
    {
     "name": "stderr",
     "output_type": "stream",
     "text": [
      "\n"
     ]
    },
    {
     "name": "stdout",
     "output_type": "stream",
     "text": [
      "\n",
      "      Epoch    GPU_mem       loss  Instances       Size\n"
     ]
    },
    {
     "name": "stderr",
     "output_type": "stream",
     "text": [
      "      22/50         0G      1.047         16         64: 100%|██████████| 1750/1750 [03:13<00:00,  9.04it/s]\n",
      "               classes   top1_acc   top5_acc: 100%|██████████| 373/373 [00:17<00:00, 21.48it/s]"
     ]
    },
    {
     "name": "stdout",
     "output_type": "stream",
     "text": [
      "                   all      0.541      0.974\n"
     ]
    },
    {
     "name": "stderr",
     "output_type": "stream",
     "text": [
      "\n"
     ]
    },
    {
     "name": "stdout",
     "output_type": "stream",
     "text": [
      "\n",
      "      Epoch    GPU_mem       loss  Instances       Size\n"
     ]
    },
    {
     "name": "stderr",
     "output_type": "stream",
     "text": [
      "      23/50         0G      1.037         16         64: 100%|██████████| 1750/1750 [03:14<00:00,  8.99it/s]\n",
      "               classes   top1_acc   top5_acc: 100%|██████████| 373/373 [00:17<00:00, 21.25it/s]"
     ]
    },
    {
     "name": "stdout",
     "output_type": "stream",
     "text": [
      "                   all       0.54      0.965\n"
     ]
    },
    {
     "name": "stderr",
     "output_type": "stream",
     "text": [
      "\n"
     ]
    },
    {
     "name": "stdout",
     "output_type": "stream",
     "text": [
      "\n",
      "      Epoch    GPU_mem       loss  Instances       Size\n"
     ]
    },
    {
     "name": "stderr",
     "output_type": "stream",
     "text": [
      "      24/50         0G      1.024         16         64: 100%|██████████| 1750/1750 [03:13<00:00,  9.07it/s]\n",
      "               classes   top1_acc   top5_acc: 100%|██████████| 373/373 [00:17<00:00, 21.40it/s]"
     ]
    },
    {
     "name": "stdout",
     "output_type": "stream",
     "text": [
      "                   all      0.542      0.973\n"
     ]
    },
    {
     "name": "stderr",
     "output_type": "stream",
     "text": [
      "\n"
     ]
    },
    {
     "name": "stdout",
     "output_type": "stream",
     "text": [
      "\n",
      "      Epoch    GPU_mem       loss  Instances       Size\n"
     ]
    },
    {
     "name": "stderr",
     "output_type": "stream",
     "text": [
      "      25/50         0G      1.021         16         64: 100%|██████████| 1750/1750 [03:13<00:00,  9.02it/s]\n",
      "               classes   top1_acc   top5_acc: 100%|██████████| 373/373 [00:16<00:00, 23.15it/s]"
     ]
    },
    {
     "name": "stdout",
     "output_type": "stream",
     "text": [
      "                   all      0.541      0.975\n"
     ]
    },
    {
     "name": "stderr",
     "output_type": "stream",
     "text": [
      "\n"
     ]
    },
    {
     "name": "stdout",
     "output_type": "stream",
     "text": [
      "\n",
      "      Epoch    GPU_mem       loss  Instances       Size\n"
     ]
    },
    {
     "name": "stderr",
     "output_type": "stream",
     "text": [
      "      26/50         0G      1.005         16         64: 100%|██████████| 1750/1750 [02:48<00:00, 10.41it/s]\n",
      "               classes   top1_acc   top5_acc: 100%|██████████| 373/373 [00:17<00:00, 21.63it/s]"
     ]
    },
    {
     "name": "stdout",
     "output_type": "stream",
     "text": [
      "                   all       0.54      0.978\n"
     ]
    },
    {
     "name": "stderr",
     "output_type": "stream",
     "text": [
      "\n"
     ]
    },
    {
     "name": "stdout",
     "output_type": "stream",
     "text": [
      "\n",
      "      Epoch    GPU_mem       loss  Instances       Size\n"
     ]
    },
    {
     "name": "stderr",
     "output_type": "stream",
     "text": [
      "      27/50         0G      1.001         16         64: 100%|██████████| 1750/1750 [03:09<00:00,  9.22it/s]\n",
      "               classes   top1_acc   top5_acc: 100%|██████████| 373/373 [00:17<00:00, 21.54it/s]"
     ]
    },
    {
     "name": "stdout",
     "output_type": "stream",
     "text": [
      "                   all      0.542      0.982\n"
     ]
    },
    {
     "name": "stderr",
     "output_type": "stream",
     "text": [
      "\n"
     ]
    },
    {
     "name": "stdout",
     "output_type": "stream",
     "text": [
      "\n",
      "      Epoch    GPU_mem       loss  Instances       Size\n"
     ]
    },
    {
     "name": "stderr",
     "output_type": "stream",
     "text": [
      "      28/50         0G     0.9963         16         64: 100%|██████████| 1750/1750 [02:46<00:00, 10.50it/s]\n",
      "               classes   top1_acc   top5_acc: 100%|██████████| 373/373 [00:14<00:00, 25.52it/s]"
     ]
    },
    {
     "name": "stdout",
     "output_type": "stream",
     "text": [
      "                   all      0.546      0.984\n"
     ]
    },
    {
     "name": "stderr",
     "output_type": "stream",
     "text": [
      "\n"
     ]
    },
    {
     "name": "stdout",
     "output_type": "stream",
     "text": [
      "\n",
      "      Epoch    GPU_mem       loss  Instances       Size\n"
     ]
    },
    {
     "name": "stderr",
     "output_type": "stream",
     "text": [
      "      29/50         0G     0.9811         16         64: 100%|██████████| 1750/1750 [02:42<00:00, 10.74it/s]\n",
      "               classes   top1_acc   top5_acc: 100%|██████████| 373/373 [00:14<00:00, 25.82it/s]"
     ]
    },
    {
     "name": "stdout",
     "output_type": "stream",
     "text": [
      "                   all      0.547      0.984\n"
     ]
    },
    {
     "name": "stderr",
     "output_type": "stream",
     "text": [
      "\n"
     ]
    },
    {
     "name": "stdout",
     "output_type": "stream",
     "text": [
      "\n",
      "      Epoch    GPU_mem       loss  Instances       Size\n"
     ]
    },
    {
     "name": "stderr",
     "output_type": "stream",
     "text": [
      "      30/50         0G     0.9844         16         64: 100%|██████████| 1750/1750 [02:42<00:00, 10.80it/s]\n",
      "               classes   top1_acc   top5_acc: 100%|██████████| 373/373 [00:14<00:00, 25.95it/s]"
     ]
    },
    {
     "name": "stdout",
     "output_type": "stream",
     "text": [
      "                   all       0.55      0.982\n"
     ]
    },
    {
     "name": "stderr",
     "output_type": "stream",
     "text": [
      "\n"
     ]
    },
    {
     "name": "stdout",
     "output_type": "stream",
     "text": [
      "\n",
      "      Epoch    GPU_mem       loss  Instances       Size\n"
     ]
    },
    {
     "name": "stderr",
     "output_type": "stream",
     "text": [
      "      31/50         0G     0.9633         16         64: 100%|██████████| 1750/1750 [02:41<00:00, 10.83it/s]\n",
      "               classes   top1_acc   top5_acc: 100%|██████████| 373/373 [00:14<00:00, 25.93it/s]"
     ]
    },
    {
     "name": "stdout",
     "output_type": "stream",
     "text": [
      "                   all      0.551      0.983\n"
     ]
    },
    {
     "name": "stderr",
     "output_type": "stream",
     "text": [
      "\n"
     ]
    },
    {
     "name": "stdout",
     "output_type": "stream",
     "text": [
      "\n",
      "      Epoch    GPU_mem       loss  Instances       Size\n"
     ]
    },
    {
     "name": "stderr",
     "output_type": "stream",
     "text": [
      "      32/50         0G     0.9646         16         64: 100%|██████████| 1750/1750 [02:42<00:00, 10.79it/s]\n",
      "               classes   top1_acc   top5_acc: 100%|██████████| 373/373 [00:14<00:00, 26.02it/s]"
     ]
    },
    {
     "name": "stdout",
     "output_type": "stream",
     "text": [
      "                   all      0.551      0.983\n"
     ]
    },
    {
     "name": "stderr",
     "output_type": "stream",
     "text": [
      "\n"
     ]
    },
    {
     "name": "stdout",
     "output_type": "stream",
     "text": [
      "\n",
      "      Epoch    GPU_mem       loss  Instances       Size\n"
     ]
    },
    {
     "name": "stderr",
     "output_type": "stream",
     "text": [
      "      33/50         0G     0.9618         16         64: 100%|██████████| 1750/1750 [02:42<00:00, 10.79it/s]\n",
      "               classes   top1_acc   top5_acc: 100%|██████████| 373/373 [00:14<00:00, 26.05it/s]"
     ]
    },
    {
     "name": "stdout",
     "output_type": "stream",
     "text": [
      "                   all      0.554      0.983\n"
     ]
    },
    {
     "name": "stderr",
     "output_type": "stream",
     "text": [
      "\n"
     ]
    },
    {
     "name": "stdout",
     "output_type": "stream",
     "text": [
      "\n",
      "      Epoch    GPU_mem       loss  Instances       Size\n"
     ]
    },
    {
     "name": "stderr",
     "output_type": "stream",
     "text": [
      "      34/50         0G     0.9468         16         64: 100%|██████████| 1750/1750 [02:42<00:00, 10.78it/s]\n",
      "               classes   top1_acc   top5_acc: 100%|██████████| 373/373 [00:14<00:00, 26.21it/s]"
     ]
    },
    {
     "name": "stdout",
     "output_type": "stream",
     "text": [
      "                   all      0.554      0.984\n"
     ]
    },
    {
     "name": "stderr",
     "output_type": "stream",
     "text": [
      "\n"
     ]
    },
    {
     "name": "stdout",
     "output_type": "stream",
     "text": [
      "\n",
      "      Epoch    GPU_mem       loss  Instances       Size\n"
     ]
    },
    {
     "name": "stderr",
     "output_type": "stream",
     "text": [
      "      35/50         0G     0.9344         16         64: 100%|██████████| 1750/1750 [02:42<00:00, 10.78it/s]\n",
      "               classes   top1_acc   top5_acc: 100%|██████████| 373/373 [00:14<00:00, 25.81it/s]"
     ]
    },
    {
     "name": "stdout",
     "output_type": "stream",
     "text": [
      "                   all      0.554      0.985\n"
     ]
    },
    {
     "name": "stderr",
     "output_type": "stream",
     "text": [
      "\n"
     ]
    },
    {
     "name": "stdout",
     "output_type": "stream",
     "text": [
      "\n",
      "      Epoch    GPU_mem       loss  Instances       Size\n"
     ]
    },
    {
     "name": "stderr",
     "output_type": "stream",
     "text": [
      "      36/50         0G     0.9298         16         64: 100%|██████████| 1750/1750 [02:42<00:00, 10.80it/s]\n",
      "               classes   top1_acc   top5_acc: 100%|██████████| 373/373 [00:14<00:00, 25.75it/s]"
     ]
    },
    {
     "name": "stdout",
     "output_type": "stream",
     "text": [
      "                   all      0.554      0.985\n"
     ]
    },
    {
     "name": "stderr",
     "output_type": "stream",
     "text": [
      "\n"
     ]
    },
    {
     "name": "stdout",
     "output_type": "stream",
     "text": [
      "\n",
      "      Epoch    GPU_mem       loss  Instances       Size\n"
     ]
    },
    {
     "name": "stderr",
     "output_type": "stream",
     "text": [
      "      37/50         0G     0.9191         16         64: 100%|██████████| 1750/1750 [02:42<00:00, 10.76it/s]\n",
      "               classes   top1_acc   top5_acc: 100%|██████████| 373/373 [00:14<00:00, 25.87it/s]"
     ]
    },
    {
     "name": "stdout",
     "output_type": "stream",
     "text": [
      "                   all      0.554      0.985\n"
     ]
    },
    {
     "name": "stderr",
     "output_type": "stream",
     "text": [
      "\n"
     ]
    },
    {
     "name": "stdout",
     "output_type": "stream",
     "text": [
      "\n",
      "      Epoch    GPU_mem       loss  Instances       Size\n"
     ]
    },
    {
     "name": "stderr",
     "output_type": "stream",
     "text": [
      "      38/50         0G      0.913         16         64: 100%|██████████| 1750/1750 [02:42<00:00, 10.78it/s]\n",
      "               classes   top1_acc   top5_acc: 100%|██████████| 373/373 [00:14<00:00, 26.06it/s]"
     ]
    },
    {
     "name": "stdout",
     "output_type": "stream",
     "text": [
      "                   all      0.555      0.985\n"
     ]
    },
    {
     "name": "stderr",
     "output_type": "stream",
     "text": [
      "\n"
     ]
    },
    {
     "name": "stdout",
     "output_type": "stream",
     "text": [
      "\n",
      "      Epoch    GPU_mem       loss  Instances       Size\n"
     ]
    },
    {
     "name": "stderr",
     "output_type": "stream",
     "text": [
      "      39/50         0G     0.9058         16         64: 100%|██████████| 1750/1750 [02:42<00:00, 10.75it/s]\n",
      "               classes   top1_acc   top5_acc: 100%|██████████| 373/373 [00:14<00:00, 25.90it/s]"
     ]
    },
    {
     "name": "stdout",
     "output_type": "stream",
     "text": [
      "                   all      0.555      0.985\n"
     ]
    },
    {
     "name": "stderr",
     "output_type": "stream",
     "text": [
      "\n"
     ]
    },
    {
     "name": "stdout",
     "output_type": "stream",
     "text": [
      "\n",
      "      Epoch    GPU_mem       loss  Instances       Size\n"
     ]
    },
    {
     "name": "stderr",
     "output_type": "stream",
     "text": [
      "      40/50         0G     0.8963         16         64: 100%|██████████| 1750/1750 [02:42<00:00, 10.77it/s]\n",
      "               classes   top1_acc   top5_acc: 100%|██████████| 373/373 [00:14<00:00, 25.96it/s]"
     ]
    },
    {
     "name": "stdout",
     "output_type": "stream",
     "text": [
      "                   all      0.556      0.984\n"
     ]
    },
    {
     "name": "stderr",
     "output_type": "stream",
     "text": [
      "\n"
     ]
    },
    {
     "name": "stdout",
     "output_type": "stream",
     "text": [
      "\n",
      "      Epoch    GPU_mem       loss  Instances       Size\n"
     ]
    },
    {
     "name": "stderr",
     "output_type": "stream",
     "text": [
      "      41/50         0G     0.8863         16         64: 100%|██████████| 1750/1750 [02:42<00:00, 10.74it/s]\n",
      "               classes   top1_acc   top5_acc: 100%|██████████| 373/373 [00:14<00:00, 25.77it/s]"
     ]
    },
    {
     "name": "stdout",
     "output_type": "stream",
     "text": [
      "                   all      0.556      0.984\n"
     ]
    },
    {
     "name": "stderr",
     "output_type": "stream",
     "text": [
      "\n"
     ]
    },
    {
     "name": "stdout",
     "output_type": "stream",
     "text": [
      "\n",
      "      Epoch    GPU_mem       loss  Instances       Size\n"
     ]
    },
    {
     "name": "stderr",
     "output_type": "stream",
     "text": [
      "      42/50         0G     0.8743         16         64: 100%|██████████| 1750/1750 [02:42<00:00, 10.77it/s]\n",
      "               classes   top1_acc   top5_acc: 100%|██████████| 373/373 [00:14<00:00, 25.63it/s]"
     ]
    },
    {
     "name": "stdout",
     "output_type": "stream",
     "text": [
      "                   all      0.556      0.984\n"
     ]
    },
    {
     "name": "stderr",
     "output_type": "stream",
     "text": [
      "\n"
     ]
    },
    {
     "name": "stdout",
     "output_type": "stream",
     "text": [
      "\n",
      "      Epoch    GPU_mem       loss  Instances       Size\n"
     ]
    },
    {
     "name": "stderr",
     "output_type": "stream",
     "text": [
      "      43/50         0G     0.8678         16         64: 100%|██████████| 1750/1750 [02:42<00:00, 10.76it/s]\n",
      "               classes   top1_acc   top5_acc: 100%|██████████| 373/373 [00:14<00:00, 25.87it/s]"
     ]
    },
    {
     "name": "stdout",
     "output_type": "stream",
     "text": [
      "                   all      0.557      0.985\n"
     ]
    },
    {
     "name": "stderr",
     "output_type": "stream",
     "text": [
      "\n"
     ]
    },
    {
     "name": "stdout",
     "output_type": "stream",
     "text": [
      "\n",
      "      Epoch    GPU_mem       loss  Instances       Size\n"
     ]
    },
    {
     "name": "stderr",
     "output_type": "stream",
     "text": [
      "      44/50         0G     0.8597         16         64: 100%|██████████| 1750/1750 [02:42<00:00, 10.75it/s]\n",
      "               classes   top1_acc   top5_acc: 100%|██████████| 373/373 [00:14<00:00, 25.96it/s]"
     ]
    },
    {
     "name": "stdout",
     "output_type": "stream",
     "text": [
      "                   all      0.557      0.985\n"
     ]
    },
    {
     "name": "stderr",
     "output_type": "stream",
     "text": [
      "\n"
     ]
    },
    {
     "name": "stdout",
     "output_type": "stream",
     "text": [
      "\n",
      "      Epoch    GPU_mem       loss  Instances       Size\n"
     ]
    },
    {
     "name": "stderr",
     "output_type": "stream",
     "text": [
      "      45/50         0G     0.8456         16         64: 100%|██████████| 1750/1750 [02:44<00:00, 10.67it/s]\n",
      "               classes   top1_acc   top5_acc: 100%|██████████| 373/373 [00:15<00:00, 24.53it/s]"
     ]
    },
    {
     "name": "stdout",
     "output_type": "stream",
     "text": [
      "                   all      0.557      0.985\n"
     ]
    },
    {
     "name": "stderr",
     "output_type": "stream",
     "text": [
      "\n"
     ]
    },
    {
     "name": "stdout",
     "output_type": "stream",
     "text": [
      "\n",
      "      Epoch    GPU_mem       loss  Instances       Size\n"
     ]
    },
    {
     "name": "stderr",
     "output_type": "stream",
     "text": [
      "      46/50         0G     0.8446         16         64: 100%|██████████| 1750/1750 [03:02<00:00,  9.61it/s]\n",
      "               classes   top1_acc   top5_acc: 100%|██████████| 373/373 [00:17<00:00, 21.64it/s]"
     ]
    },
    {
     "name": "stdout",
     "output_type": "stream",
     "text": [
      "                   all      0.557      0.986\n"
     ]
    },
    {
     "name": "stderr",
     "output_type": "stream",
     "text": [
      "\n"
     ]
    },
    {
     "name": "stdout",
     "output_type": "stream",
     "text": [
      "\n",
      "      Epoch    GPU_mem       loss  Instances       Size\n"
     ]
    },
    {
     "name": "stderr",
     "output_type": "stream",
     "text": [
      "      47/50         0G     0.8247         16         64: 100%|██████████| 1750/1750 [02:57<00:00,  9.84it/s]\n",
      "               classes   top1_acc   top5_acc: 100%|██████████| 373/373 [00:14<00:00, 25.55it/s]"
     ]
    },
    {
     "name": "stdout",
     "output_type": "stream",
     "text": [
      "                   all      0.558      0.986\n"
     ]
    },
    {
     "name": "stderr",
     "output_type": "stream",
     "text": [
      "\n"
     ]
    },
    {
     "name": "stdout",
     "output_type": "stream",
     "text": [
      "\n",
      "      Epoch    GPU_mem       loss  Instances       Size\n"
     ]
    },
    {
     "name": "stderr",
     "output_type": "stream",
     "text": [
      "      48/50         0G     0.8184         16         64: 100%|██████████| 1750/1750 [02:43<00:00, 10.70it/s]\n",
      "               classes   top1_acc   top5_acc: 100%|██████████| 373/373 [00:14<00:00, 25.94it/s]"
     ]
    },
    {
     "name": "stdout",
     "output_type": "stream",
     "text": [
      "                   all      0.559      0.986\n"
     ]
    },
    {
     "name": "stderr",
     "output_type": "stream",
     "text": [
      "\n"
     ]
    },
    {
     "name": "stdout",
     "output_type": "stream",
     "text": [
      "\n",
      "      Epoch    GPU_mem       loss  Instances       Size\n"
     ]
    },
    {
     "name": "stderr",
     "output_type": "stream",
     "text": [
      "      49/50         0G     0.8015         16         64: 100%|██████████| 1750/1750 [02:42<00:00, 10.75it/s]\n",
      "               classes   top1_acc   top5_acc: 100%|██████████| 373/373 [00:14<00:00, 25.22it/s]"
     ]
    },
    {
     "name": "stdout",
     "output_type": "stream",
     "text": [
      "                   all       0.56      0.986\n"
     ]
    },
    {
     "name": "stderr",
     "output_type": "stream",
     "text": [
      "\n"
     ]
    },
    {
     "name": "stdout",
     "output_type": "stream",
     "text": [
      "\n",
      "      Epoch    GPU_mem       loss  Instances       Size\n"
     ]
    },
    {
     "name": "stderr",
     "output_type": "stream",
     "text": [
      "      50/50         0G     0.7961         16         64: 100%|██████████| 1750/1750 [02:42<00:00, 10.77it/s]\n",
      "               classes   top1_acc   top5_acc: 100%|██████████| 373/373 [00:14<00:00, 26.02it/s]"
     ]
    },
    {
     "name": "stdout",
     "output_type": "stream",
     "text": [
      "                   all      0.559      0.986\n"
     ]
    },
    {
     "name": "stderr",
     "output_type": "stream",
     "text": [
      "\n"
     ]
    },
    {
     "name": "stdout",
     "output_type": "stream",
     "text": [
      "\n",
      "50 epochs completed in 2.702 hours.\n",
      "Optimizer stripped from runs\\classify\\train12\\weights\\last.pt, 11.0MB\n",
      "Optimizer stripped from runs\\classify\\train12\\weights\\best.pt, 11.0MB\n",
      "\n",
      "Validating runs\\classify\\train12\\weights\\best.pt...\n",
      "Ultralytics 8.3.56  Python-3.12.9 torch-2.5.1+cpu CPU (AMD Ryzen Threadripper 3960X 24-Core Processor)\n",
      "YOLO11s-cls summary (fused): 112 layers, 5,443,095 parameters, 0 gradients, 12.0 GFLOPs\n",
      "WARNING  Dataset 'split=val' not found, using 'split=test' instead.\n",
      "\u001b[34m\u001b[1mtrain:\u001b[0m C:\\work\\alma\\Facial-Emotion-Recognition\\dataset\\images\\train... found 28000 images in 7 classes  \n",
      "\u001b[34m\u001b[1mval:\u001b[0m None...\n",
      "\u001b[34m\u001b[1mtest:\u001b[0m C:\\work\\alma\\Facial-Emotion-Recognition\\dataset\\images\\test... found 11930 images in 7 classes  \n"
     ]
    },
    {
     "name": "stderr",
     "output_type": "stream",
     "text": [
      "               classes   top1_acc   top5_acc: 100%|██████████| 373/373 [00:13<00:00, 27.85it/s]\n"
     ]
    },
    {
     "name": "stdout",
     "output_type": "stream",
     "text": [
      "                   all       0.56      0.986\n",
      "Speed: 0.0ms preprocess, 0.7ms inference, 0.0ms loss, 0.0ms postprocess per image\n",
      "Results saved to \u001b[1mruns\\classify\\train12\u001b[0m\n"
     ]
    }
   ],
   "source": [
    "from ultralytics import YOLO\n",
    "\n",
    "# Load a model\n",
    "model = YOLO(\"yolo11s-cls.yaml\")  # build a new model from YAML\n",
    "model = YOLO(\"yolo11s-cls.pt\")  # load a pretrained model (recommended for training)\n",
    "model = YOLO(\"yolo11s-cls.yaml\").load(\"yolo11s-cls.pt\")  # build from YAML and transfer weights\n",
    "\n",
    "# Train the model\n",
    "results = model.train(data=r\"dataset\\images\", epochs=50, imgsz=64)"
   ]
  },
  {
   "cell_type": "code",
   "execution_count": 5,
   "metadata": {},
   "outputs": [
    {
     "name": "stdout",
     "output_type": "stream",
     "text": [
      "\n",
      "image 1/1 /mnt/c/work/alma/Facial-Emotion-Recognition/unseen_data/happy_pramod.jpg: 224x224 happy 0.83, neutral 0.07, sad 0.06, angry 0.03, fear 0.00, 6.4ms\n",
      "Speed: 29.1ms preprocess, 6.4ms inference, 0.1ms postprocess per image at shape (1, 3, 224, 224)\n"
     ]
    },
    {
     "name": "stderr",
     "output_type": "stream",
     "text": [
      "WARNING: You don't seem to have any mimeinfo.cache files.\n",
      "Try running the update-desktop-database command. If you\n",
      "don't have this command you should install the\n",
      "desktop-file-utils package. This package is available from\n",
      "http://freedesktop.org/wiki/Software/desktop-file-utils/\n",
      "No applications found for mimetype: image/png\n",
      "./usr/bin/xdg-open: 882: x-www-browser: not found\n",
      "/usr/bin/xdg-open: 882: firefox: not found\n",
      "/usr/bin/xdg-open: 882: iceweasel: not found\n",
      "/usr/bin/xdg-open: 882: seamonkey: not found\n",
      "/usr/bin/xdg-open: 882: mozilla: not found\n",
      "/usr/bin/xdg-open: 882: epiphany: not found\n",
      "/usr/bin/xdg-open: 882: konqueror: not found\n",
      "/usr/bin/xdg-open: 882: chromium: not found\n",
      "/usr/bin/xdg-open: 882: chromium-browser: not found\n",
      "/usr/bin/xdg-open: 882: google-chrome: not found\n",
      "/usr/bin/xdg-open: 882: www-browser: not found\n",
      "/usr/bin/xdg-open: 882: links2: not found\n",
      "/usr/bin/xdg-open: 882: elinks: not found\n",
      "/usr/bin/xdg-open: 882: links: not found\n",
      "/usr/bin/xdg-open: 882: lynx: not found\n",
      "/usr/bin/xdg-open: 882: w3m: not found\n",
      "xdg-open: no method available for opening '/tmp/tmpk1q4ndug.PNG'\n"
     ]
    }
   ],
   "source": [
    "from ultralytics import YOLO\n",
    "model = YOLO(\"yolo11s_emotion.pt\")\n",
    "results = model(\"unseen_data/happy_pramod.jpg\")\n",
    "results[0].show()"
   ]
  },
  {
   "cell_type": "code",
   "execution_count": null,
   "metadata": {},
   "outputs": [],
   "source": []
  }
 ],
 "metadata": {
  "kernelspec": {
   "display_name": "Python 3",
   "language": "python",
   "name": "python3"
  },
  "language_info": {
   "codemirror_mode": {
    "name": "ipython",
    "version": 3
   },
   "file_extension": ".py",
   "mimetype": "text/x-python",
   "name": "python",
   "nbconvert_exporter": "python",
   "pygments_lexer": "ipython3",
   "version": "3.12.10"
  }
 },
 "nbformat": 4,
 "nbformat_minor": 4
}
